{
 "cells": [
  {
   "cell_type": "markdown",
   "metadata": {},
   "source": [
    "# Question - 1"
   ]
  },
  {
   "cell_type": "code",
   "execution_count": 1,
   "metadata": {},
   "outputs": [],
   "source": [
    "import numpy as np\n",
    "import pandas as pd"
   ]
  },
  {
   "cell_type": "code",
   "execution_count": 2,
   "metadata": {},
   "outputs": [],
   "source": [
    "def getmatrix(filename):\n",
    "    train = pd.read_csv(filename, delimiter='\\t', header= None)\n",
    "    return train"
   ]
  },
  {
   "cell_type": "code",
   "execution_count": 3,
   "metadata": {},
   "outputs": [],
   "source": [
    "def putinmatrix(i, main, train):\n",
    "    main[int(train[0][i]) - 1][int(train[1][i]) - 1] = int(train[2][i])\n",
    "    return main"
   ]
  },
  {
   "cell_type": "code",
   "execution_count": 4,
   "metadata": {},
   "outputs": [],
   "source": [
    "train = getmatrix('MovieLens/ml80.train')"
   ]
  },
  {
   "cell_type": "code",
   "execution_count": 5,
   "metadata": {},
   "outputs": [],
   "source": [
    "main_train = np.zeros((train[0].max(),train[1].max()))"
   ]
  },
  {
   "cell_type": "code",
   "execution_count": 6,
   "metadata": {},
   "outputs": [],
   "source": [
    "for i in range(train.shape[0]):\n",
    "    main_train[int(train[0][i]) - 1][int(train[1][i]) - 1] = int(train[2][i])"
   ]
  },
  {
   "cell_type": "code",
   "execution_count": 7,
   "metadata": {},
   "outputs": [],
   "source": [
    "U, Sigma, V_T = np.linalg.svd(main_train, full_matrices=True)"
   ]
  },
  {
   "cell_type": "code",
   "execution_count": 8,
   "metadata": {},
   "outputs": [],
   "source": [
    "def pred(U, Sigma, V_T, k):\n",
    "    U_k = U.T[:k].T\n",
    "    Sigma_k = np.diag(Sigma[:k])\n",
    "    V_T_k = V_T[:k]\n",
    "    A_k = np.dot(np.dot(U_k,Sigma_k),V_T_k)\n",
    "    return A_k\n",
    "\n",
    "test = getmatrix('MovieLens/ml20.test')\n",
    "\n",
    "def err(test, pred):\n",
    "    error = 0\n",
    "    for i in range(test.shape[0]):\n",
    "        diff = (int(test[2][i]) - pred[int(test[0][i]) - 1][int(test[1][i]) - 1])**2\n",
    "        error = error + diff\n",
    "    return error"
   ]
  },
  {
   "cell_type": "code",
   "execution_count": 9,
   "metadata": {
    "scrolled": true
   },
   "outputs": [],
   "source": [
    "err_list = []\n",
    "for k in range(0,100):\n",
    "    pred_k = pred(U, Sigma, V_T, k)\n",
    "    err_list.append(err(test, pred_k))"
   ]
  },
  {
   "cell_type": "code",
   "execution_count": 11,
   "metadata": {},
   "outputs": [
    {
     "data": {
      "image/png": "[encoded data removed]",
      "text/plain": [
       "<Figure size 432x288 with 1 Axes>"
      ]
     },
     "metadata": {},
     "output_type": "display_data"
    }
   ],
   "source": [
    "import matplotlib.pyplot as plt\n",
    "plt.plot(range(100), err_list)\n",
    "plt.xlabel('Valus of K')\n",
    "plt.ylabel('Test Error')\n",
    "plt.show()"
   ]
  },
  {
   "cell_type": "markdown",
   "metadata": {},
   "source": [
    "### Optimal K seems to be between 10 and 15\n",
    "### The order of least error lies in 1,40,000 - 1,50,000"
   ]
  },
  {
   "cell_type": "markdown",
   "metadata": {},
   "source": [
    "## Part - 2"
   ]
  },
  {
   "cell_type": "code",
   "execution_count": 75,
   "metadata": {},
   "outputs": [],
   "source": [
    "import numpy as np \n",
    "import matplotlib.pyplot as plt\n",
    "from scipy.optimize import curve_fit"
   ]
  },
  {
   "cell_type": "code",
   "execution_count": 76,
   "metadata": {},
   "outputs": [],
   "source": [
    "def func(x,a,b):\n",
    "    return a*x[0] + b*x[1]"
   ]
  },
  {
   "cell_type": "code",
   "execution_count": 77,
   "metadata": {},
   "outputs": [],
   "source": [
    "def get_mu(i, train):\n",
    "    temp = train[train[0] == i][2]\n",
    "    if temp.shape[0] == 0:\n",
    "        temp = 0\n",
    "    else:\n",
    "        temp = temp.mean()\n",
    "    return temp"
   ]
  },
  {
   "cell_type": "code",
   "execution_count": 78,
   "metadata": {},
   "outputs": [],
   "source": [
    "def get_n(j, train):\n",
    "    temp = train[train[1] == j][2]\n",
    "    if temp.shape[0] == 0:\n",
    "        temp = 0\n",
    "    else:\n",
    "        temp = temp.mean()\n",
    "    return temp"
   ]
  },
  {
   "cell_type": "code",
   "execution_count": 68,
   "metadata": {},
   "outputs": [],
   "source": [
    "X = []\n",
    "for k in range(train.shape[0]):\n",
    "    i = train[0][k]\n",
    "    j = train[1][k]\n",
    "    X.append([get_mu(i, train),get_n(j, train)])\n",
    "\n",
    "Y = np.array(train[2])"
   ]
  },
  {
   "cell_type": "code",
   "execution_count": 79,
   "metadata": {},
   "outputs": [],
   "source": [
    "popt, pcov = curve_fit(func, np.array(X).T, Y)"
   ]
  },
  {
   "cell_type": "code",
   "execution_count": 80,
   "metadata": {},
   "outputs": [],
   "source": [
    "alpha = popt[0]\n",
    "beta = popt[1]"
   ]
  },
  {
   "cell_type": "code",
   "execution_count": 81,
   "metadata": {},
   "outputs": [],
   "source": [
    "def val(alpha, beta, i, j):\n",
    "    return i*alpha + j*beta"
   ]
  },
  {
   "cell_type": "code",
   "execution_count": 82,
   "metadata": {},
   "outputs": [],
   "source": [
    "def err_val(test):\n",
    "    error = 0\n",
    "    for i in range(test.shape[0]):\n",
    "        mu = get_mu(int(test[0][i]), train)\n",
    "        nu = get_n(int(test[1][i]), train)\n",
    "        \n",
    "        diff = (int(test[2][i]) - val(alpha, beta, mu, nu))**2\n",
    "        error = error + diff\n",
    "    return error"
   ]
  },
  {
   "cell_type": "code",
   "execution_count": 84,
   "metadata": {},
   "outputs": [
    {
     "data": {
      "text/plain": [
       "19052.076144719704"
      ]
     },
     "execution_count": 84,
     "metadata": {},
     "output_type": "execute_result"
    }
   ],
   "source": [
    "err_val(test)"
   ]
  },
  {
   "cell_type": "markdown",
   "metadata": {},
   "source": [
    "## Least error observed using low rank approximation was much higher than the error obtained by fitting train data to $\\alpha*\\mu_{i} + \\beta*\\eta_{j}$"
   ]
  }
 ],
 "metadata": {
  "kernelspec": {
   "display_name": "Python 3",
   "language": "python",
   "name": "python3"
  },
  "language_info": {
   "codemirror_mode": {
    "name": "ipython",
    "version": 3
   },
   "file_extension": ".py",
   "mimetype": "text/x-python",
   "name": "python",
   "nbconvert_exporter": "python",
   "pygments_lexer": "ipython3",
   "version": "3.6.5"
  }
 },
 "nbformat": 4,
 "nbformat_minor": 2
}
